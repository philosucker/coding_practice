{
 "cells": [
  {
   "cell_type": "code",
   "execution_count": 6,
   "metadata": {},
   "outputs": [
    {
     "name": "stderr",
     "output_type": "stream",
     "text": [
      "[nltk_data] Downloading package wordnet to /home/aiffel/nltk_data...\n",
      "[nltk_data]   Unzipping corpora/wordnet.zip.\n"
     ]
    }
   ],
   "source": [
    "import nltk\n",
    "nltk.download('wordnet')\n",
    "from nltk.corpus import wordnet"
   ]
  },
  {
   "cell_type": "markdown",
   "metadata": {},
   "source": [
    "### 1. 특정 단어의 동의어를 찾고 싶으면 wordnet.synsets() 메서드를 사용한다"
   ]
  },
  {
   "cell_type": "code",
   "execution_count": 8,
   "metadata": {},
   "outputs": [
    {
     "data": {
      "text/plain": [
       "[Synset('car.n.01'),\n",
       " Synset('car.n.02'),\n",
       " Synset('car.n.03'),\n",
       " Synset('car.n.04'),\n",
       " Synset('cable_car.n.01')]"
      ]
     },
     "execution_count": 8,
     "metadata": {},
     "output_type": "execute_result"
    }
   ],
   "source": [
    "wordnet.synsets('car')"
   ]
  },
  {
   "cell_type": "markdown",
   "metadata": {},
   "source": [
    "car 라는 단어에는 5개의 서로 다른 동의어 그룹이 정의되어 있다   \n",
    "\n",
    "**car.n.01** 는 첫번째 그룹을 뜻한다.   \n",
    "   \n",
    "   \n",
    "그룹명에는 규칙이 있는데   \n",
    "맨 앞에는 단어이름 **car**     \n",
    "콤마 뒤에는 품사 (명사이면 n) **car.n**   \n",
    "다시 콤마 뒤에 있는 숫자는 그룹의 인덱스를 뜻한다 **car.n.01**   "
   ]
  },
  {
   "cell_type": "markdown",
   "metadata": {},
   "source": [
    "### 2. 첫번째 그룹에서의 car 정의는 아래와 같이 볼 수 있다    \n",
    "**definition() 메서드 사용**"
   ]
  },
  {
   "cell_type": "code",
   "execution_count": 9,
   "metadata": {},
   "outputs": [
    {
     "data": {
      "text/plain": [
       "'a motor vehicle with four wheels; usually propelled by an internal combustion engine'"
      ]
     },
     "execution_count": 9,
     "metadata": {},
     "output_type": "execute_result"
    }
   ],
   "source": [
    "car = wordnet.synset('car.n.01')\n",
    "car.definition()"
   ]
  },
  {
   "cell_type": "markdown",
   "metadata": {},
   "source": [
    "### 3. 첫번째 그룹에서의 car에는 어떤 유의어들이 들어 있는지 위와 같이 볼 수 있다.   \n",
    "**lemma_names() 메서드 사용**"
   ]
  },
  {
   "cell_type": "code",
   "execution_count": 10,
   "metadata": {},
   "outputs": [
    {
     "data": {
      "text/plain": [
       "['car', 'auto', 'automobile', 'machine', 'motorcar']"
      ]
     },
     "execution_count": 10,
     "metadata": {},
     "output_type": "execute_result"
    }
   ],
   "source": [
    "car.lemma_names()"
   ]
  },
  {
   "cell_type": "markdown",
   "metadata": {},
   "source": [
    "### 4. 단어 네트워크를 사용해 car와 다른 단어와의 상하관계는 다음과 같이 볼 수 있다   \n",
    "**hypernum_paths()메서드 사용**"
   ]
  },
  {
   "cell_type": "code",
   "execution_count": 11,
   "metadata": {},
   "outputs": [
    {
     "data": {
      "text/plain": [
       "[Synset('entity.n.01'),\n",
       " Synset('physical_entity.n.01'),\n",
       " Synset('object.n.01'),\n",
       " Synset('whole.n.02'),\n",
       " Synset('artifact.n.01'),\n",
       " Synset('instrumentality.n.03'),\n",
       " Synset('container.n.01'),\n",
       " Synset('wheeled_vehicle.n.01'),\n",
       " Synset('self-propelled_vehicle.n.01'),\n",
       " Synset('motor_vehicle.n.01'),\n",
       " Synset('car.n.01')]"
      ]
     },
     "execution_count": 11,
     "metadata": {},
     "output_type": "execute_result"
    }
   ],
   "source": [
    "car.hypernym_paths()[0]"
   ]
  },
  {
   "cell_type": "markdown",
   "metadata": {},
   "source": [
    "car 위에는 motor_vehicle, 그 위에는 self-propelled_vehicle, 순으로 올라가서 최상위에는 object, physical_entity, entity 순으로 추상화된다."
   ]
  },
  {
   "cell_type": "markdown",
   "metadata": {},
   "source": [
    "### 5. 단어 간의 유사도는 다음과 같이 볼 수 있다   \n",
    "**path_similarity() 메서드 사용**"
   ]
  },
  {
   "cell_type": "code",
   "execution_count": 14,
   "metadata": {},
   "outputs": [
    {
     "name": "stdout",
     "output_type": "stream",
     "text": [
      "car와 novel의 유사도 : 0.05555555555555555\n",
      "car와 motorcycle의 유사도 : 0.3333333333333333\n",
      "car와 dog의 유사도 : 0.07692307692307693\n"
     ]
    }
   ],
   "source": [
    "car = wordnet.synset('car.n.01')\n",
    "novel = wordnet.synset('novel.n.01')\n",
    "motorcycle = wordnet.synset('motorcycle.n.01')\n",
    "dog = wordnet.synset('dog.n.01')\n",
    "\n",
    "print(\"car와 novel의 유사도 :\", car.path_similarity(novel))\n",
    "print(\"car와 motorcycle의 유사도 :\",car.path_similarity(motorcycle))\n",
    "print(\"car와 dog의 유사도 :\",car.path_similarity(dog))"
   ]
  },
  {
   "cell_type": "markdown",
   "metadata": {},
   "source": [
    "1에 가까울수록 두 단어의 유사도는 높다"
   ]
  },
  {
   "cell_type": "markdown",
   "metadata": {},
   "source": [
    "![이미지](https://img1.daumcdn.net/thumb/R1280x0/?scode=mtistory2&fname=https%3A%2F%2Fblog.kakaocdn.net%2Fdn%2Fb0J5jv%2FbtqYpXFrhaJ%2FrwqV8p8FH8EcNQCPJ1QE6K%2Fimg.png)"
   ]
  },
  {
   "cell_type": "markdown",
   "metadata": {},
   "source": [
    "WordNet에서 단어의 유사도는 위와 같이   \n",
    "상하 관계의 멀고 가까움을 바탕으로 계산된다   \n",
    "path_similarity()메서드의 의미는 여기에 기인한다   "
   ]
  },
  {
   "cell_type": "markdown",
   "metadata": {},
   "source": [
    "이 밖에도 Leacock-Chodorow유사도, Wu-Porow 유사도도 있다."
   ]
  },
  {
   "cell_type": "markdown",
   "metadata": {},
   "source": [
    "참고 : http://www.nltk.org/howto/wordnet.html"
   ]
  },
  {
   "cell_type": "code",
   "execution_count": null,
   "metadata": {},
   "outputs": [],
   "source": []
  }
 ],
 "metadata": {
  "kernelspec": {
   "display_name": "Python 3",
   "language": "python",
   "name": "python3"
  },
  "language_info": {
   "codemirror_mode": {
    "name": "ipython",
    "version": 3
   },
   "file_extension": ".py",
   "mimetype": "text/x-python",
   "name": "python",
   "nbconvert_exporter": "python",
   "pygments_lexer": "ipython3",
   "version": "3.7.9"
  }
 },
 "nbformat": 4,
 "nbformat_minor": 4
}
